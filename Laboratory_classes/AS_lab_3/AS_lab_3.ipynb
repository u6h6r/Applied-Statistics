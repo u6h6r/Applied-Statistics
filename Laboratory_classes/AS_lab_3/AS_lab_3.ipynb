{
  "nbformat": 4,
  "nbformat_minor": 0,
  "metadata": {
    "colab": {
      "name": "AS_lab_3.ipynb",
      "provenance": [],
      "collapsed_sections": []
    },
    "kernelspec": {
      "name": "python3",
      "display_name": "Python 3"
    }
  },
  "cells": [
    {
      "cell_type": "code",
      "metadata": {
        "id": "GoWSJotqmqR8"
      },
      "source": [
        "import numpy as np\n",
        "import pandas as pd\n",
        "import matplotlib.pyplot as plt\n",
        "import math"
      ],
      "execution_count": 77,
      "outputs": []
    },
    {
      "cell_type": "code",
      "metadata": {
        "id": "hSXidS6ioCxy",
        "outputId": "4616859d-877b-4169-bc32-928cc895534f",
        "colab": {
          "base_uri": "https://localhost:8080/",
          "height": 53
        }
      },
      "source": [
        "data = np.random.rand(10)\n",
        "data"
      ],
      "execution_count": 74,
      "outputs": [
        {
          "output_type": "execute_result",
          "data": {
            "text/plain": [
              "array([0.7641574 , 0.38611298, 0.05196413, 0.26913052, 0.62237629,\n",
              "       0.13142725, 0.12588297, 0.36095809, 0.0180823 , 0.21147993])"
            ]
          },
          "metadata": {
            "tags": []
          },
          "execution_count": 74
        }
      ]
    },
    {
      "cell_type": "markdown",
      "metadata": {
        "id": "3oVYj7CHtaOk"
      },
      "source": [
        "Function fo Bonferroni multiple testing correction"
      ]
    },
    {
      "cell_type": "code",
      "metadata": {
        "id": "WSgBHe2Nm6gI"
      },
      "source": [
        "def bonferroni(data):\n",
        "  n = data.shape[0]\n",
        "  alfa = 0.05\n",
        "  pi = alfa/n\n",
        "  pN_data = list(data)\n",
        "  pN_data_new = []\n",
        "  accepted = []\n",
        "  for val in pN_data:\n",
        "    if val < pi:\n",
        "      accepted.append(True)\n",
        "    if val > pi:\n",
        "      accepted.append(False)\n",
        "    if val*n >= 1:\n",
        "      pN_data_new.append(1)\n",
        "    else:\n",
        "      pN_data_new.append(val*n)\n",
        "  return pN_data_new, accepted"
      ],
      "execution_count": 75,
      "outputs": []
    },
    {
      "cell_type": "code",
      "metadata": {
        "id": "1_nZnoXUs6il",
        "outputId": "ac1d3fc6-014d-4607-9992-68c58fd35a3c",
        "colab": {
          "base_uri": "https://localhost:8080/",
          "height": 53
        }
      },
      "source": [
        "b_correction, acc = bonferroni(data)\n",
        "acc, b_correction"
      ],
      "execution_count": 57,
      "outputs": [
        {
          "output_type": "execute_result",
          "data": {
            "text/plain": [
              "([False, False, False, False, False, False, False, False, False, False],\n",
              " [1, 1, 1, 1, 1, 1, 0.10488378017029842, 1, 1, 1])"
            ]
          },
          "metadata": {
            "tags": []
          },
          "execution_count": 57
        }
      ]
    },
    {
      "cell_type": "markdown",
      "metadata": {
        "id": "ONaefH66tnwo"
      },
      "source": [
        "Check for correctnes using existing function"
      ]
    },
    {
      "cell_type": "code",
      "metadata": {
        "id": "rBw6-zwqrlWI"
      },
      "source": [
        "from statsmodels.sandbox.stats.multicomp import multipletests\n",
        "p_adjusted = multipletests(data, method='bonferroni')"
      ],
      "execution_count": 54,
      "outputs": []
    },
    {
      "cell_type": "code",
      "metadata": {
        "id": "Mx4h2RHQrrpt",
        "outputId": "338b8f51-19eb-4058-ab39-71f357b300eb",
        "colab": {
          "base_uri": "https://localhost:8080/",
          "height": 53
        }
      },
      "source": [
        "p_adjusted[1] == np.asarray(b_correction)"
      ],
      "execution_count": 58,
      "outputs": [
        {
          "output_type": "execute_result",
          "data": {
            "text/plain": [
              "array([ True,  True,  True,  True,  True,  True,  True,  True,  True,\n",
              "        True])"
            ]
          },
          "metadata": {
            "tags": []
          },
          "execution_count": 58
        }
      ]
    },
    {
      "cell_type": "code",
      "metadata": {
        "id": "cPHAmc2ht36a",
        "outputId": "754299ce-cccf-48c2-c6cd-3b8cf3c36948",
        "colab": {
          "base_uri": "https://localhost:8080/",
          "height": 125
        }
      },
      "source": [
        "p_adjusted"
      ],
      "execution_count": 59,
      "outputs": [
        {
          "output_type": "execute_result",
          "data": {
            "text/plain": [
              "(array([False, False, False, False, False, False, False, False, False,\n",
              "        False]),\n",
              " array([1.        , 1.        , 1.        , 1.        , 1.        ,\n",
              "        1.        , 0.10488378, 1.        , 1.        , 1.        ]),\n",
              " 0.005116196891823743,\n",
              " 0.005)"
            ]
          },
          "metadata": {
            "tags": []
          },
          "execution_count": 59
        }
      ]
    },
    {
      "cell_type": "code",
      "metadata": {
        "id": "wc_lP1fLwSJK"
      },
      "source": [
        "data_2 = np.loadtxt('/content/p_Group3.txt')"
      ],
      "execution_count": 64,
      "outputs": []
    },
    {
      "cell_type": "code",
      "metadata": {
        "id": "ymLveQ5awxu9",
        "outputId": "af8e283d-d61b-4ae1-ce20-720a0d8e3a19",
        "colab": {
          "base_uri": "https://localhost:8080/",
          "height": 35
        }
      },
      "source": [
        "data_2.shape"
      ],
      "execution_count": 67,
      "outputs": [
        {
          "output_type": "execute_result",
          "data": {
            "text/plain": [
              "(9000,)"
            ]
          },
          "metadata": {
            "tags": []
          },
          "execution_count": 67
        }
      ]
    },
    {
      "cell_type": "code",
      "metadata": {
        "id": "yYNnT5xmwz2B",
        "outputId": "e2f805a7-0c48-4717-81af-f980935db1bf",
        "colab": {
          "base_uri": "https://localhost:8080/",
          "height": 390
        }
      },
      "source": [
        "plt.figure(figsize=(10,6))\n",
        "x = len(data_2)\n",
        "binsizes = math.sqrt(x)\n",
        "plt.hist(data_2, bins = int(binsizes))\n",
        "plt.title('Histogram for salaries over.1year')\n",
        "plt.show()"
      ],
      "execution_count": 79,
      "outputs": [
        {
          "output_type": "display_data",
          "data": {
            "image/png": "[encoded data removed]",
            "text/plain": [
              "<Figure size 720x432 with 1 Axes>"
            ]
          },
          "metadata": {
            "tags": [],
            "needs_background": "light"
          }
        }
      ]
    },
    {
      "cell_type": "markdown",
      "metadata": {
        "id": "FX8CMvOUyLW4"
      },
      "source": [
        "Count number of p-values that are significant at the level of 0.05"
      ]
    },
    {
      "cell_type": "code",
      "metadata": {
        "id": "fLJEEkWuyeKk",
        "outputId": "33e8cba9-131f-47c2-a4d3-f9b68f927ffb",
        "colab": {
          "base_uri": "https://localhost:8080/",
          "height": 35
        }
      },
      "source": [
        "len(data_2)"
      ],
      "execution_count": 81,
      "outputs": [
        {
          "output_type": "execute_result",
          "data": {
            "text/plain": [
              "9000"
            ]
          },
          "metadata": {
            "tags": []
          },
          "execution_count": 81
        }
      ]
    },
    {
      "cell_type": "code",
      "metadata": {
        "id": "oZAHXSDQw2l6"
      },
      "source": [
        "counter = 0\n",
        "for i in data_2:\n",
        "  if i < 0.05:\n",
        "    counter += 1"
      ],
      "execution_count": 83,
      "outputs": []
    },
    {
      "cell_type": "markdown",
      "metadata": {
        "id": "S4dXtYzGzIvz"
      },
      "source": [
        "There is 2380 p_values significant at the level of 0.05"
      ]
    },
    {
      "cell_type": "code",
      "metadata": {
        "id": "7rO0y6sOyjIo",
        "outputId": "f0d78436-4883-4a82-9c63-2a9eed66f6bf",
        "colab": {
          "base_uri": "https://localhost:8080/",
          "height": 35
        }
      },
      "source": [
        "counter"
      ],
      "execution_count": 84,
      "outputs": [
        {
          "output_type": "execute_result",
          "data": {
            "text/plain": [
              "2380"
            ]
          },
          "metadata": {
            "tags": []
          },
          "execution_count": 84
        }
      ]
    },
    {
      "cell_type": "code",
      "metadata": {
        "id": "tNwJk5cgywk0"
      },
      "source": [
        "p_adjusted_2 = multipletests(data_2, method='bonferroni')"
      ],
      "execution_count": 85,
      "outputs": []
    },
    {
      "cell_type": "code",
      "metadata": {
        "id": "sg0QqS84y0Jr",
        "outputId": "171828c4-dfbb-40b6-895d-da0010992f9f",
        "colab": {
          "base_uri": "https://localhost:8080/",
          "height": 35
        }
      },
      "source": [
        "sum(p_adjusted_2[0])"
      ],
      "execution_count": 91,
      "outputs": [
        {
          "output_type": "execute_result",
          "data": {
            "text/plain": [
              "987"
            ]
          },
          "metadata": {
            "tags": []
          },
          "execution_count": 91
        }
      ]
    },
    {
      "cell_type": "code",
      "metadata": {
        "id": "eh2G4wxWzhRG"
      },
      "source": [
        "b_correction_2, acc_2 = bonferroni(data_2)"
      ],
      "execution_count": 88,
      "outputs": []
    },
    {
      "cell_type": "markdown",
      "metadata": {
        "id": "7eysD-PVz46c"
      },
      "source": [
        "After performing Bonferroni correction 987 p_values remain"
      ]
    },
    {
      "cell_type": "code",
      "metadata": {
        "id": "4-mrvawazq4T",
        "outputId": "5a353a30-7daa-476e-e88a-19e497ff7f92",
        "colab": {
          "base_uri": "https://localhost:8080/",
          "height": 35
        }
      },
      "source": [
        "sum(acc_2)"
      ],
      "execution_count": 90,
      "outputs": [
        {
          "output_type": "execute_result",
          "data": {
            "text/plain": [
              "987"
            ]
          },
          "metadata": {
            "tags": []
          },
          "execution_count": 90
        }
      ]
    }
  ]
}